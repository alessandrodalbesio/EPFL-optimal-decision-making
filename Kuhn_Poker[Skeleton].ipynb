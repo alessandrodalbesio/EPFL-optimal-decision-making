{
 "cells": [
  {
   "cell_type": "code",
   "execution_count": 1,
   "id": "2c458056-e5db-44a9-bd9a-fbe7aea80b15",
   "metadata": {},
   "outputs": [],
   "source": [
    "import cvxpy as cp\n",
    "import pandas as pd\n",
    "import matplotlib.pyplot as plt"
   ]
  },
  {
   "cell_type": "code",
   "execution_count": 2,
   "id": "1e8bfb46-cae6-4961-ab2b-5345ea674530",
   "metadata": {},
   "outputs": [],
   "source": [
    "import kuhn_poker_helpers"
   ]
  },
  {
   "cell_type": "markdown",
   "id": "096f5108-1a18-4d9e-a1e8-6d2342e3fe2f",
   "metadata": {},
   "source": [
    "# Visualization of Payoff Matrix and Strategy profiles"
   ]
  },
  {
   "cell_type": "code",
   "execution_count": 3,
   "id": "aae54262-3949-49c7-958b-3b714ca33d24",
   "metadata": {},
   "outputs": [],
   "source": [
    "M = kuhn_poker_helpers.create_M()\n",
    "profiles_P1, profiles_P2 = kuhn_poker_helpers.create_profiles()"
   ]
  },
  {
   "cell_type": "markdown",
   "id": "60a94cce-9db9-4d1b-83e9-dec523aeadde",
   "metadata": {},
   "source": [
    "## Payoff Matrix."
   ]
  },
  {
   "cell_type": "code",
   "execution_count": 4,
   "id": "07d3219e-a8ea-45a3-9cc5-620ed156fdd4",
   "metadata": {},
   "outputs": [
    {
     "data": {
      "text/plain": [
       "<matplotlib.colorbar.Colorbar at 0x2439a05f370>"
      ]
     },
     "execution_count": 4,
     "metadata": {},
     "output_type": "execute_result"
    },
    {
     "data": {
      "image/png": "[encoded data removed]",
      "text/plain": [
       "<Figure size 1152x576 with 2 Axes>"
      ]
     },
     "metadata": {
      "needs_background": "light"
     },
     "output_type": "display_data"
    }
   ],
   "source": [
    "plt.figure(figsize=(16,8))\n",
    "pos = plt.imshow(M, cmap='RdBu', interpolation='none')\n",
    "plt.title('Payoff to Player 1')\n",
    "plt.colorbar(pos)"
   ]
  },
  {
   "cell_type": "markdown",
   "id": "4374858f-97d7-4d3e-8a89-fef7d70b3d73",
   "metadata": {},
   "source": [
    "## Strategy Profiles"
   ]
  },
  {
   "cell_type": "code",
   "execution_count": 5,
   "id": "7a239b69-43ab-4fd1-90b8-8384cde9daa7",
   "metadata": {},
   "outputs": [
    {
     "data": {
      "text/html": [
       "<div>\n",
       "<style scoped>\n",
       "    .dataframe tbody tr th:only-of-type {\n",
       "        vertical-align: middle;\n",
       "    }\n",
       "\n",
       "    .dataframe tbody tr th {\n",
       "        vertical-align: top;\n",
       "    }\n",
       "\n",
       "    .dataframe thead th {\n",
       "        text-align: right;\n",
       "    }\n",
       "</style>\n",
       "<table border=\"1\" class=\"dataframe\">\n",
       "  <thead>\n",
       "    <tr style=\"text-align: right;\">\n",
       "      <th></th>\n",
       "      <th>J</th>\n",
       "      <th>Q</th>\n",
       "      <th>K</th>\n",
       "      <th>J-raised</th>\n",
       "      <th>Q-raised</th>\n",
       "      <th>K-raised</th>\n",
       "    </tr>\n",
       "  </thead>\n",
       "  <tbody>\n",
       "    <tr>\n",
       "      <th>0</th>\n",
       "      <td>check</td>\n",
       "      <td>check</td>\n",
       "      <td>check</td>\n",
       "      <td>fold</td>\n",
       "      <td>fold</td>\n",
       "      <td>fold</td>\n",
       "    </tr>\n",
       "    <tr>\n",
       "      <th>1</th>\n",
       "      <td>check</td>\n",
       "      <td>check</td>\n",
       "      <td>check</td>\n",
       "      <td>fold</td>\n",
       "      <td>fold</td>\n",
       "      <td>call</td>\n",
       "    </tr>\n",
       "    <tr>\n",
       "      <th>2</th>\n",
       "      <td>check</td>\n",
       "      <td>check</td>\n",
       "      <td>check</td>\n",
       "      <td>fold</td>\n",
       "      <td>call</td>\n",
       "      <td>fold</td>\n",
       "    </tr>\n",
       "    <tr>\n",
       "      <th>3</th>\n",
       "      <td>check</td>\n",
       "      <td>check</td>\n",
       "      <td>check</td>\n",
       "      <td>fold</td>\n",
       "      <td>call</td>\n",
       "      <td>call</td>\n",
       "    </tr>\n",
       "    <tr>\n",
       "      <th>4</th>\n",
       "      <td>check</td>\n",
       "      <td>check</td>\n",
       "      <td>check</td>\n",
       "      <td>call</td>\n",
       "      <td>fold</td>\n",
       "      <td>fold</td>\n",
       "    </tr>\n",
       "  </tbody>\n",
       "</table>\n",
       "</div>"
      ],
      "text/plain": [
       "       J      Q      K J-raised Q-raised K-raised\n",
       "0  check  check  check     fold     fold     fold\n",
       "1  check  check  check     fold     fold     call\n",
       "2  check  check  check     fold     call     fold\n",
       "3  check  check  check     fold     call     call\n",
       "4  check  check  check     call     fold     fold"
      ]
     },
     "execution_count": 5,
     "metadata": {},
     "output_type": "execute_result"
    }
   ],
   "source": [
    "# strategies of player one\n",
    "pd.DataFrame(profiles_P1).head()"
   ]
  },
  {
   "cell_type": "code",
   "execution_count": 6,
   "id": "b5345666-394d-4015-ada4-aedb8b95ec2e",
   "metadata": {},
   "outputs": [
    {
     "data": {
      "text/html": [
       "<div>\n",
       "<style scoped>\n",
       "    .dataframe tbody tr th:only-of-type {\n",
       "        vertical-align: middle;\n",
       "    }\n",
       "\n",
       "    .dataframe tbody tr th {\n",
       "        vertical-align: top;\n",
       "    }\n",
       "\n",
       "    .dataframe thead th {\n",
       "        text-align: right;\n",
       "    }\n",
       "</style>\n",
       "<table border=\"1\" class=\"dataframe\">\n",
       "  <thead>\n",
       "    <tr style=\"text-align: right;\">\n",
       "      <th></th>\n",
       "      <th>J-checked</th>\n",
       "      <th>Q-checked</th>\n",
       "      <th>K-checked</th>\n",
       "      <th>J-bet</th>\n",
       "      <th>Q-bet</th>\n",
       "      <th>K-bet</th>\n",
       "    </tr>\n",
       "  </thead>\n",
       "  <tbody>\n",
       "    <tr>\n",
       "      <th>0</th>\n",
       "      <td>check</td>\n",
       "      <td>check</td>\n",
       "      <td>check</td>\n",
       "      <td>fold</td>\n",
       "      <td>fold</td>\n",
       "      <td>fold</td>\n",
       "    </tr>\n",
       "    <tr>\n",
       "      <th>1</th>\n",
       "      <td>check</td>\n",
       "      <td>check</td>\n",
       "      <td>bet</td>\n",
       "      <td>fold</td>\n",
       "      <td>fold</td>\n",
       "      <td>fold</td>\n",
       "    </tr>\n",
       "    <tr>\n",
       "      <th>2</th>\n",
       "      <td>check</td>\n",
       "      <td>bet</td>\n",
       "      <td>check</td>\n",
       "      <td>fold</td>\n",
       "      <td>fold</td>\n",
       "      <td>fold</td>\n",
       "    </tr>\n",
       "    <tr>\n",
       "      <th>3</th>\n",
       "      <td>check</td>\n",
       "      <td>bet</td>\n",
       "      <td>bet</td>\n",
       "      <td>fold</td>\n",
       "      <td>fold</td>\n",
       "      <td>fold</td>\n",
       "    </tr>\n",
       "    <tr>\n",
       "      <th>4</th>\n",
       "      <td>bet</td>\n",
       "      <td>check</td>\n",
       "      <td>check</td>\n",
       "      <td>fold</td>\n",
       "      <td>fold</td>\n",
       "      <td>fold</td>\n",
       "    </tr>\n",
       "  </tbody>\n",
       "</table>\n",
       "</div>"
      ],
      "text/plain": [
       "  J-checked Q-checked K-checked J-bet Q-bet K-bet\n",
       "0     check     check     check  fold  fold  fold\n",
       "1     check     check       bet  fold  fold  fold\n",
       "2     check       bet     check  fold  fold  fold\n",
       "3     check       bet       bet  fold  fold  fold\n",
       "4       bet     check     check  fold  fold  fold"
      ]
     },
     "execution_count": 6,
     "metadata": {},
     "output_type": "execute_result"
    }
   ],
   "source": [
    "# strategies of player two\n",
    "pd.DataFrame(profiles_P2).head()"
   ]
  },
  {
   "cell_type": "markdown",
   "id": "904e23c2-f507-4e36-8fdf-d89e3e76689a",
   "metadata": {},
   "source": [
    "In strategy `1`, the row player checks any card, and if raised folds except if she has a king.\n",
    "In strategy `0`, the column player checks if the row player checks and folds if player the row player bets. "
   ]
  },
  {
   "attachments": {},
   "cell_type": "markdown",
   "id": "78abf183-d447-46a5-8837-b4a402670a6b",
   "metadata": {},
   "source": [
    "# 2.2.b Computing the Optimal strategy"
   ]
  },
  {
   "cell_type": "code",
   "execution_count": 9,
   "id": "0f8d4be2-9789-42d7-b967-a32179506f5b",
   "metadata": {},
   "outputs": [
    {
     "name": "stdout",
     "output_type": "stream",
     "text": [
      "\n",
      "Your Code Here\n",
      "\n"
     ]
    }
   ],
   "source": [
    "print('''\n",
    "Your Code Here\n",
    "''')"
   ]
  },
  {
   "attachments": {},
   "cell_type": "markdown",
   "id": "4ec3637f-eff7-465a-8400-84808f27f617",
   "metadata": {},
   "source": [
    "# 2.2.c Strategy of Jack, given checked and raised"
   ]
  },
  {
   "cell_type": "code",
   "execution_count": 10,
   "id": "65d67f06-0987-40ff-a2e8-5b71e8e45f8b",
   "metadata": {},
   "outputs": [
    {
     "name": "stdout",
     "output_type": "stream",
     "text": [
      "\n",
      "Your Code Here\n",
      "\n"
     ]
    }
   ],
   "source": [
    "print('''\n",
    "Your Code Here\n",
    "''')"
   ]
  },
  {
   "cell_type": "code",
   "execution_count": null,
   "id": "16b44ebc-7b97-4e45-8ed8-d85cad2cdbca",
   "metadata": {},
   "outputs": [],
   "source": []
  }
 ],
 "metadata": {
  "kernelspec": {
   "display_name": "Python 3 (ipykernel)",
   "language": "python",
   "name": "python3"
  },
  "language_info": {
   "codemirror_mode": {
    "name": "ipython",
    "version": 3
   },
   "file_extension": ".py",
   "mimetype": "text/x-python",
   "name": "python",
   "nbconvert_exporter": "python",
   "pygments_lexer": "ipython3",
   "version": "3.9.12"
  }
 },
 "nbformat": 4,
 "nbformat_minor": 5
}
