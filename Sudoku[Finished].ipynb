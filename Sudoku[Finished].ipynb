{
 "cells": [
  {
   "cell_type": "code",
   "execution_count": 2,
   "id": "sexual-might",
   "metadata": {},
   "outputs": [],
   "source": [
    "import numpy as np\n",
    "import cvxpy as cp"
   ]
  },
  {
   "cell_type": "code",
   "execution_count": 3,
   "id": "assumed-germany",
   "metadata": {},
   "outputs": [],
   "source": [
    "Q = np.array([\n",
    "    [0, 0, 2,   0, 0, 9,   0, 5, 0],\n",
    "    [0, 3, 0,   2, 0, 0,   1, 0, 0],\n",
    "    [0, 0, 7,   0, 0, 5,   3, 0, 0],\n",
    "    \n",
    "    [7, 8, 0,   0, 0, 0,   0, 0, 0],\n",
    "    [9, 0, 0,   0, 0, 0,   2, 6, 0],\n",
    "    [0, 0, 0,   0, 9, 3,   0, 0, 5],\n",
    "    \n",
    "    [0, 0, 6,   0, 0, 0,   0, 9, 0],\n",
    "    [0, 2, 1,   0, 0, 4,   5, 0, 3],\n",
    "    [0, 0, 0,   7, 0, 0,   0, 0, 1],\n",
    "])"
   ]
  },
  {
   "cell_type": "code",
   "execution_count": 4,
   "id": "c2804b6a-59c8-4aa0-b5e3-ff10a274547a",
   "metadata": {},
   "outputs": [
    {
     "name": "stdout",
     "output_type": "stream",
     "text": [
      ". . 2   . . 9   . 5 . \n",
      ". 3 .   2 . .   1 . . \n",
      ". . 7   . . 5   3 . . \n",
      "\n",
      "7 8 .   . . .   . . . \n",
      "9 . .   . . .   2 6 . \n",
      ". . .   . 9 3   . . 5 \n",
      "\n",
      ". . 6   . . .   . 9 . \n",
      ". 2 1   . . 4   5 . 3 \n",
      ". . .   7 . .   . . 1 \n"
     ]
    }
   ],
   "source": [
    "for i in range(9):\n",
    "    for j in range(9):\n",
    "        if Q[i,j]==0:\n",
    "            print('. ', end='')\n",
    "        else:\n",
    "            print(f'{int(Q[i,j].round())} ', end='')\n",
    "        if j in [2, 5]:\n",
    "            print('  ', end='')\n",
    "    print('\\n', end='')\n",
    "    if i in [2, 5]:\n",
    "        print('\\n', end='')"
   ]
  },
  {
   "cell_type": "code",
   "execution_count": 5,
   "id": "df31c5a0",
   "metadata": {},
   "outputs": [],
   "source": [
    "def flattened_square_indices(i, j, size = 3, square_shape = 9):\n",
    "    \n",
    "    # Calculate the slice bounds for the square\n",
    "    i_min, i_max = max(0, i + 1 - size // 2), min(square_shape, i+1 + size // 2 + 1)\n",
    "    j_min, j_max = max(0, j + 1 - size // 2), min(square_shape, j+1 + size // 2 + 1)\n",
    "\n",
    "    indices = []\n",
    "\n",
    "    for i in range(i_min, i_max):\n",
    "        for j in range(j_min, j_max):\n",
    "            indices.append((square_shape*i + j))\n",
    "\n",
    "    return indices"
   ]
  },
  {
   "cell_type": "code",
   "execution_count": 6,
   "id": "c0fb94eb",
   "metadata": {},
   "outputs": [],
   "source": [
    "def sudoku_contraints(b):\n",
    "    # Define the constraints for a sudoku board\n",
    "    constraints = []\n",
    "\n",
    "    # Each cell contains exactly one number\n",
    "    for i in range(9):\n",
    "        for j in range(9):\n",
    "            constraints.append(cp.sum(b[i*9 + j, :]) == 1)\n",
    "\n",
    "    # Each row contains each number exactly once\n",
    "    for i in range(9):\n",
    "        for k in range(9):\n",
    "            horizontal_index = np.ravel_multi_index((i, np.arange(9)), (9,9))\n",
    "            constraints.append(cp.sum(b[horizontal_index, k]) == 1)\n",
    "\n",
    "    # Each column contains each number exactly once\n",
    "    for j in range(9):\n",
    "        for k in range(9):\n",
    "            vertical_index = np.ravel_multi_index((np.arange(9), j), (9,9))\n",
    "            constraints.append(cp.sum(b[vertical_index, k]) == 1)\n",
    "\n",
    "    # Each 3x3 subgrid contains each number exactly once\n",
    "    for i in range(3):\n",
    "        for j in range(3):\n",
    "            for k in range(9):\n",
    "                square_index = flattened_square_indices(i*3, j*3, 3)\n",
    "                constraints.append(cp.sum(b[square_index, k]) == 1)\n",
    "\n",
    "    # Fix the known numbers\n",
    "    for i in range(9):\n",
    "        for j in range(9):\n",
    "            if Q[i, j] != 0:\n",
    "                constraints.append(b[i*9 + j, int(Q[i, j]-1)] == 1)\n",
    "    \n",
    "    return constraints"
   ]
  },
  {
   "cell_type": "code",
   "execution_count": 7,
   "id": "behind-massachusetts",
   "metadata": {},
   "outputs": [
    {
     "name": "stdout",
     "output_type": "stream",
     "text": [
      "Status: optimal\n"
     ]
    }
   ],
   "source": [
    "# Define the binary decision variables on a flattened sudoku board\n",
    "b = cp.Variable((9*9, 9), boolean=True)\n",
    "\n",
    "# Define the constraints\n",
    "constraints = sudoku_contraints(b)\n",
    "\n",
    "# Define the objective\n",
    "obj = cp.Minimize(0)\n",
    "\n",
    "# Define the problem\n",
    "prob = cp.Problem(obj, constraints)\n",
    "\n",
    "# Solve the problem\n",
    "prob.solve()\n",
    "\n",
    "print(f'Status: {prob.status}')"
   ]
  },
  {
   "cell_type": "code",
   "execution_count": null,
   "id": "3593acd4-85a5-4f25-8c09-6a25725bcd63",
   "metadata": {},
   "outputs": [
    {
     "name": "stdout",
     "output_type": "stream",
     "text": [
      "6 4 2   3 1 9   8 5 7 \n",
      "5 3 8   2 7 6   1 4 9 \n",
      "1 9 7   4 8 5   3 2 6 \n",
      "\n",
      "7 8 5   6 2 1   9 3 4 \n",
      "9 1 3   5 4 7   2 6 8 \n",
      "2 6 4   8 9 3   7 1 5 \n",
      "\n",
      "3 7 6   1 5 8   4 9 2 \n",
      "8 2 1   9 6 4   5 7 3 \n",
      "4 5 9   7 3 2   6 8 1 \n"
     ]
    }
   ],
   "source": [
    "# Print the solution\n",
    "\n",
    "for i in range(9):\n",
    "    for j in range(9):\n",
    "        for k in range(9):\n",
    "            if b[i*9 + j, k].value == 1:\n",
    "                    print(f'{k+1} ', end='')\n",
    "\n",
    "        if j in [2, 5]:\n",
    "            print('  ', end='')\n",
    "    print('\\n', end='')\n",
    "    if i in [2, 5]:\n",
    "        print('\\n', end='')"
   ]
  },
  {
   "cell_type": "code",
   "execution_count": null,
   "id": "19b75076",
   "metadata": {},
   "outputs": [],
   "source": []
  }
 ],
 "metadata": {
  "kernelspec": {
   "display_name": "Python 3 (ipykernel)",
   "language": "python",
   "name": "python3"
  },
  "language_info": {
   "codemirror_mode": {
    "name": "ipython",
    "version": 3
   },
   "file_extension": ".py",
   "mimetype": "text/x-python",
   "name": "python",
   "nbconvert_exporter": "python",
   "pygments_lexer": "ipython3",
   "version": "3.9.13"
  }
 },
 "nbformat": 4,
 "nbformat_minor": 5
}
