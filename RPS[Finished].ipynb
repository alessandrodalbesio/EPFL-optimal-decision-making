{
 "cells": [
  {
   "attachments": {},
   "cell_type": "markdown",
   "id": "86768539",
   "metadata": {},
   "source": [
    "# Rock Paper Scissors"
   ]
  },
  {
   "attachments": {},
   "cell_type": "markdown",
   "id": "94c12812",
   "metadata": {},
   "source": [
    "### Import the used modules and definition of some constants"
   ]
  },
  {
   "cell_type": "code",
   "execution_count": 1,
   "id": "0e1d7e01",
   "metadata": {},
   "outputs": [],
   "source": [
    "import numpy as np\n",
    "import cvxpy as cp\n",
    "import tabulate\n",
    "\n",
    "ROCK, PAPER, SCISSORS = 0, 1, 2"
   ]
  },
  {
   "attachments": {},
   "cell_type": "markdown",
   "id": "23b5ddc2",
   "metadata": {},
   "source": [
    "### Definition of some utilities functions"
   ]
  },
  {
   "cell_type": "code",
   "execution_count": 2,
   "id": "88addbad",
   "metadata": {},
   "outputs": [],
   "source": [
    "# Used to make the text bold\n",
    "def boldText(text):\n",
    "    return \"\\033[1m\" + text + \"\\033[0m\"\n",
    "\n",
    "# Used to display the payoff matrix\n",
    "def displayPayoffMatrix(M, mode):\n",
    "    print(f'The payof matrix of the {mode} game is:')\n",
    "    header = ['', 'Rock', 'Paper', 'Scissors']\n",
    "    body = [['Rock', M[ROCK, ROCK], M[ROCK, PAPER], M[ROCK, SCISSORS]],\n",
    "            ['Paper', M[PAPER, ROCK], M[PAPER, PAPER], M[PAPER, SCISSORS]],\n",
    "            ['Scissors', M[SCISSORS, ROCK], M[SCISSORS, PAPER], M[SCISSORS, SCISSORS]]]\n",
    "    print(tabulate.tabulate(body, header, tablefmt=\"fancy_grid\"))\n",
    "\n",
    "# Used to display the optimal strategy and expected payoff\n",
    "def displayResults(player, probabilities, expectedPayoff):\n",
    "    print(f'The Nash strategy for the {boldText(player)} player is:')\n",
    "    header = ['Move', 'Probability']\n",
    "    body = [['Rock', round(float(probabilities[ROCK]), 3)],\n",
    "            ['Paper', round(float(probabilities[PAPER]), 3)],\n",
    "            ['Scissors', round(float(probabilities[SCISSORS]), 3)]]\n",
    "    print(tabulate.tabulate(body, header, tablefmt=\"fancy_grid\"))\n",
    "    print(f'The expected payoff for the {boldText(player)} player is: {round(expectedPayoff, 3)}')\n",
    "    "
   ]
  },
  {
   "attachments": {},
   "cell_type": "markdown",
   "id": "88d73690-5b49-4133-9bf6-9270e9263006",
   "metadata": {},
   "source": [
    "## 3.1.1 Traditional Rock Paper Scissors"
   ]
  },
  {
   "attachments": {},
   "cell_type": "markdown",
   "id": "46731c58",
   "metadata": {},
   "source": [
    "### Payoff matrix definition"
   ]
  },
  {
   "cell_type": "code",
   "execution_count": 3,
   "id": "2e1b8226-d240-4f07-aa0f-698443cf046f",
   "metadata": {},
   "outputs": [
    {
     "name": "stdout",
     "output_type": "stream",
     "text": [
      "The payof matrix of the traditional rock paper scissors game is:\n",
      "╒══════════╤════════╤═════════╤════════════╕\n",
      "│          │   Rock │   Paper │   Scissors │\n",
      "╞══════════╪════════╪═════════╪════════════╡\n",
      "│ Rock     │      0 │      -1 │          1 │\n",
      "├──────────┼────────┼─────────┼────────────┤\n",
      "│ Paper    │      1 │       0 │         -1 │\n",
      "├──────────┼────────┼─────────┼────────────┤\n",
      "│ Scissors │     -1 │       1 │          0 │\n",
      "╘══════════╧════════╧═════════╧════════════╛\n"
     ]
    }
   ],
   "source": [
    "M = np.array([[0, -1, 1], [1, 0, -1], [-1, 1, 0]])\n",
    "displayPayoffMatrix(M, 'traditional rock paper scissors')"
   ]
  },
  {
   "attachments": {},
   "cell_type": "markdown",
   "id": "7edbbbe0",
   "metadata": {},
   "source": [
    "### Assuming that the row-player’s strategy is to play rock with probability 1, derive the best-response strategy of the column-player "
   ]
  },
  {
   "cell_type": "code",
   "execution_count": 4,
   "id": "589d0455",
   "metadata": {},
   "outputs": [
    {
     "name": "stdout",
     "output_type": "stream",
     "text": [
      "The Nash strategy for the \u001b[1mcolumn\u001b[0m player is:\n",
      "╒══════════╤═══════════════╕\n",
      "│ Move     │   Probability │\n",
      "╞══════════╪═══════════════╡\n",
      "│ Rock     │             0 │\n",
      "├──────────┼───────────────┤\n",
      "│ Paper    │             1 │\n",
      "├──────────┼───────────────┤\n",
      "│ Scissors │             0 │\n",
      "╘══════════╧═══════════════╛\n",
      "The expected payoff for the \u001b[1mcolumn\u001b[0m player is: 1.0\n"
     ]
    }
   ],
   "source": [
    "# Define the variables\n",
    "x = cp.Variable(3, nonneg=True)\n",
    "\n",
    "# Define the objective function\n",
    "obj = cp.Minimize(cp.sum(cp.multiply(M[ROCK,:], x)))\n",
    "\n",
    "# Define the constraints\n",
    "constraints = [cp.sum(x) == 1]\n",
    "\n",
    "# Define the problem\n",
    "prob = cp.Problem(obj, constraints)\n",
    "\n",
    "# Solve the problem\n",
    "prob.solve()\n",
    "\n",
    "# Display the results\n",
    "displayResults('column', x.value, -prob.value)"
   ]
  },
  {
   "attachments": {},
   "cell_type": "markdown",
   "id": "1c25108d",
   "metadata": {},
   "source": [
    "### Construct the Nash strategies of both players and report the expected payoff of the row-player. Interpret your results."
   ]
  },
  {
   "cell_type": "code",
   "execution_count": 5,
   "id": "cb659f38",
   "metadata": {},
   "outputs": [
    {
     "name": "stdout",
     "output_type": "stream",
     "text": [
      "Status: optimal\n",
      "\n",
      "The Nash strategy for the \u001b[1mrow\u001b[0m player is:\n",
      "╒══════════╤═══════════════╕\n",
      "│ Move     │   Probability │\n",
      "╞══════════╪═══════════════╡\n",
      "│ Rock     │         0.333 │\n",
      "├──────────┼───────────────┤\n",
      "│ Paper    │         0.333 │\n",
      "├──────────┼───────────────┤\n",
      "│ Scissors │         0.333 │\n",
      "╘══════════╧═══════════════╛\n",
      "The expected payoff for the \u001b[1mrow\u001b[0m player is: -0.0\n",
      "\n",
      "The Nash strategy for the \u001b[1mcolumn\u001b[0m player is:\n",
      "╒══════════╤═══════════════╕\n",
      "│ Move     │   Probability │\n",
      "╞══════════╪═══════════════╡\n",
      "│ Rock     │         0.333 │\n",
      "├──────────┼───────────────┤\n",
      "│ Paper    │         0.333 │\n",
      "├──────────┼───────────────┤\n",
      "│ Scissors │         0.333 │\n",
      "╘══════════╧═══════════════╛\n",
      "The expected payoff for the \u001b[1mcolumn\u001b[0m player is: 0.0\n"
     ]
    }
   ],
   "source": [
    "# Define the variables\n",
    "p = cp.Variable((3,1), nonneg=True)\n",
    "a = cp.Variable((1), nonneg=False)\n",
    "\n",
    "# Define the objective function\n",
    "obj = cp.Maximize(a)\n",
    "\n",
    "# Define the constraints\n",
    "constraints = [cp.sum(p) == 1, a <= (p.T@M).T]\n",
    "\n",
    "# Define the problem\n",
    "prob = cp.Problem(obj, constraints)\n",
    "\n",
    "# Solve the problem\n",
    "prob.solve()\n",
    "print(f'Status: {prob.status}\\n')\n",
    "\n",
    "column_player_values = constraints[1].dual_value\n",
    "\n",
    "# Display the results\n",
    "displayResults('row', p.value, prob.value)\n",
    "print('')\n",
    "displayResults('column', column_player_values, -prob.value)"
   ]
  },
  {
   "attachments": {},
   "cell_type": "markdown",
   "id": "9d7e26f7-fd53-4739-86cb-1555d6d8d761",
   "metadata": {},
   "source": [
    "# 3.1.2 Modified Rock Paper Scissors\n",
    "In this case we are going to consider a modified version of the rock-paper-scissors game where the payoff of the row-player amount to +2 instead of +1 if she wins by playing rock"
   ]
  },
  {
   "attachments": {},
   "cell_type": "markdown",
   "id": "c79f0e0b",
   "metadata": {},
   "source": [
    "### Payoff matrix definition"
   ]
  },
  {
   "cell_type": "code",
   "execution_count": 6,
   "id": "d801d154",
   "metadata": {},
   "outputs": [
    {
     "name": "stdout",
     "output_type": "stream",
     "text": [
      "The payof matrix of the modified rock paper scissors game is:\n",
      "╒══════════╤════════╤═════════╤════════════╕\n",
      "│          │   Rock │   Paper │   Scissors │\n",
      "╞══════════╪════════╪═════════╪════════════╡\n",
      "│ Rock     │      0 │      -1 │          2 │\n",
      "├──────────┼────────┼─────────┼────────────┤\n",
      "│ Paper    │      1 │       0 │         -1 │\n",
      "├──────────┼────────┼─────────┼────────────┤\n",
      "│ Scissors │     -1 │       1 │          0 │\n",
      "╘══════════╧════════╧═════════╧════════════╛\n"
     ]
    }
   ],
   "source": [
    "M = np.array([[0, -1, 2], [1, 0, -1], [-1, 1, 0]])\n",
    "\n",
    "# Plot the M matrix as a table\n",
    "displayPayoffMatrix(M, 'modified rock paper scissors')"
   ]
  },
  {
   "attachments": {},
   "cell_type": "markdown",
   "id": "698ca42e",
   "metadata": {},
   "source": [
    "### Problem definition and results"
   ]
  },
  {
   "cell_type": "code",
   "execution_count": 7,
   "id": "c0c39c63-e495-4364-8f76-93bcdd24d220",
   "metadata": {},
   "outputs": [
    {
     "name": "stdout",
     "output_type": "stream",
     "text": [
      "Status: optimal\n",
      "\n",
      "The Nash strategy for the \u001b[1mrow\u001b[0m player is:\n",
      "╒══════════╤═══════════════╕\n",
      "│ Move     │   Probability │\n",
      "╞══════════╪═══════════════╡\n",
      "│ Rock     │         0.25  │\n",
      "├──────────┼───────────────┤\n",
      "│ Paper    │         0.417 │\n",
      "├──────────┼───────────────┤\n",
      "│ Scissors │         0.333 │\n",
      "╘══════════╧═══════════════╛\n",
      "The expected payoff for the \u001b[1mrow\u001b[0m player is: 0.083\n",
      "\n",
      "The Nash strategy for the \u001b[1mcolumn\u001b[0m player is:\n",
      "╒══════════╤═══════════════╕\n",
      "│ Move     │   Probability │\n",
      "╞══════════╪═══════════════╡\n",
      "│ Rock     │         0.333 │\n",
      "├──────────┼───────────────┤\n",
      "│ Paper    │         0.417 │\n",
      "├──────────┼───────────────┤\n",
      "│ Scissors │         0.25  │\n",
      "╘══════════╧═══════════════╛\n",
      "The expected payoff for the \u001b[1mcolumn\u001b[0m player is: -0.083\n"
     ]
    }
   ],
   "source": [
    "# Define the variables\n",
    "p = cp.Variable((3,1), nonneg=True)\n",
    "a = cp.Variable((1), nonneg=False)\n",
    "\n",
    "# Define the objective function\n",
    "\n",
    "obj = cp.Maximize(a)\n",
    "\n",
    "# Define the constraints\n",
    "constraints = [cp.sum(p) == 1, a <= (p.T@M).T]\n",
    "\n",
    "# Define the problem\n",
    "prob = cp.Problem(obj, constraints)\n",
    "\n",
    "# Solve the problem\n",
    "prob.solve()\n",
    "print(f'Status: {prob.status}\\n')\n",
    "\n",
    "column_player_values = constraints[1].dual_value\n",
    "\n",
    "# Display the results\n",
    "displayResults('row', p.value, prob.value)\n",
    "print('')\n",
    "displayResults('column', column_player_values, -prob.value)"
   ]
  }
 ],
 "metadata": {
  "kernelspec": {
   "display_name": "Python 3 (ipykernel)",
   "language": "python",
   "name": "python3"
  },
  "language_info": {
   "codemirror_mode": {
    "name": "ipython",
    "version": 3
   },
   "file_extension": ".py",
   "mimetype": "text/x-python",
   "name": "python",
   "nbconvert_exporter": "python",
   "pygments_lexer": "ipython3",
   "version": "3.9.13"
  }
 },
 "nbformat": 4,
 "nbformat_minor": 5
}
