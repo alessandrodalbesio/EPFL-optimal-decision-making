{
 "cells": [
  {
   "cell_type": "code",
   "execution_count": 2,
   "id": "2e1b8226-d240-4f07-aa0f-698443cf046f",
   "metadata": {},
   "outputs": [],
   "source": [
    "import numpy as np\n",
    "import cvxpy as cp"
   ]
  },
  {
   "attachments": {},
   "cell_type": "markdown",
   "id": "88d73690-5b49-4133-9bf6-9270e9263006",
   "metadata": {},
   "source": [
    "# 3.1.f Traditional Rock Paper Scissors"
   ]
  },
  {
   "cell_type": "code",
   "execution_count": 59,
   "id": "d09d666b-dc82-46db-b386-ab706515bc81",
   "metadata": {},
   "outputs": [
    {
     "name": "stdout",
     "output_type": "stream",
     "text": [
      "[[ 0 -1  1]\n",
      " [ 1  0 -1]\n",
      " [-1  1  0]]\n",
      "Rock = 0, Paper = 1, Scissors = 2\n"
     ]
    }
   ],
   "source": [
    "# payoff matrix of the rock-paper-scissors game\n",
    "\n",
    "M = np.array([[0, -1, 1], [1, 0, -1], [-1, 1, 0]])\n",
    "\n",
    "print(M)\n",
    "print('Rock = 0, Paper = 1, Scissors = 2')"
   ]
  },
  {
   "attachments": {},
   "cell_type": "markdown",
   "id": "7edbbbe0",
   "metadata": {},
   "source": [
    "#### Assuming that the row-player’s strategy is to play rock with probability 1, derive the best-response strategy of the column-player "
   ]
  },
  {
   "attachments": {},
   "cell_type": "markdown",
   "id": "ec6ebdbe",
   "metadata": {},
   "source": [
    "(i) logical reasoning : the best response strategy of the column player is to play paper with probability 1"
   ]
  },
  {
   "cell_type": "code",
   "execution_count": 60,
   "id": "589d0455",
   "metadata": {},
   "outputs": [
    {
     "name": "stdout",
     "output_type": "stream",
     "text": [
      "The best response strategy of the *column* player is to play *rock* with probability 0.0\n",
      "The best response strategy of the *column* player is to play *paper* with probability 1.0\n",
      "The best response strategy of the *column* player is to play *scissors* with probability 0.0\n",
      "\n",
      "The expected payoff of the *column* player is 1.0\n"
     ]
    }
   ],
   "source": [
    "Rock, Paper, Scissors = 0, 1, 2\n",
    "\n",
    "# (ii) solving a linear program\n",
    "\n",
    "# define the variables\n",
    "x = cp.Variable(3, nonneg=True)\n",
    "\n",
    "# define the objective function\n",
    "obj = cp.Minimize(cp.sum(cp.multiply(M[Rock,:], x)))\n",
    "\n",
    "# define the constraints\n",
    "constraints = [cp.sum(x) == 1]\n",
    "\n",
    "# define the problem\n",
    "prob = cp.Problem(obj, constraints)\n",
    "\n",
    "# solve the problem\n",
    "prob.solve()\n",
    "\n",
    "# print the solution\n",
    "print(f'The best response strategy of the *column* player is to play *rock* with probability', round(x.value[Rock], 3))\n",
    "print(f'The best response strategy of the *column* player is to play *paper* with probability', round(x.value[Paper],3))\n",
    "print(f'The best response strategy of the *column* player is to play *scissors* with probability', round(x.value[Scissors], 3))\n",
    "print('')\n",
    "print(f'The expected payoff of the *column* player is {-round(prob.value, 3)}')"
   ]
  },
  {
   "cell_type": "code",
   "execution_count": 61,
   "id": "cb659f38",
   "metadata": {},
   "outputs": [
    {
     "name": "stdout",
     "output_type": "stream",
     "text": [
      "Status: optimal\n",
      "\n",
      "The best response strategy of the *column* player is to play *rock* with probability 0.333\n",
      "The best response strategy of the *column* player is to play *paper* with probability 0.333\n",
      "The best response strategy of the *column* player is to play *scissors* with probability 0.333\n",
      "\n",
      "The best response strategy of the *column* player is to play *rock* with probability 0.333\n",
      "The best response strategy of the *column* player is to play *paper* with probability 0.333\n",
      "The best response strategy of the *column* player is to play *scissors* with probability 0.333\n",
      "\n",
      "The expected payoff of the *row* player is -0.0\n",
      "The expected payoff of the *column* player is 0.0\n"
     ]
    }
   ],
   "source": [
    "# construct the Nash strategies of both players and report the expected payoff of the row-player. Interpret your results.\n",
    "\n",
    "# define the variables\n",
    "p = cp.Variable((3,1), nonneg=True)\n",
    "a = cp.Variable((1), nonneg=False)\n",
    "\n",
    "# define the objective function\n",
    "\n",
    "obj = cp.Maximize(a)\n",
    "\n",
    "# define the constraints\n",
    "constraints = [cp.sum(p) == 1, a <= (p.T@M).T]\n",
    "\n",
    "# define the problem\n",
    "prob = cp.Problem(obj, constraints)\n",
    "\n",
    "# solve the problem\n",
    "prob.solve()\n",
    "print(f'Status: {prob.status}\\n')\n",
    "\n",
    "column_player_values = constraints[1].dual_value\n",
    "\n",
    "# print the solution for the row and colunm player\n",
    "print( \"The best response strategy of the *column* player is to play *rock* with probability\", round(p.value[Rock][0], 3))\n",
    "print( \"The best response strategy of the *column* player is to play *paper* with probability\", round(p.value[Paper][0],3))\n",
    "print( \"The best response strategy of the *column* player is to play *scissors* with probability\", round(p.value[Scissors][0], 3))\n",
    "print('')\n",
    "print( \"The best response strategy of the *column* player is to play *rock* with probability\", round(column_player_values[Rock][0], 3))\n",
    "print( \"The best response strategy of the *column* player is to play *paper* with probability\", round(column_player_values[Paper][0],3))\n",
    "print( \"The best response strategy of the *column* player is to play *scissors* with probability\", round(column_player_values[Scissors][0], 3))\n",
    "print('')\n",
    "print(f'The expected payoff of the *row* player is', np.round(constraints[0].dual_value, 3))\n",
    "print(f'The expected payoff of the *column* player is', -np.round(constraints[0].dual_value, 3))\n"
   ]
  },
  {
   "attachments": {},
   "cell_type": "markdown",
   "id": "9d7e26f7-fd53-4739-86cb-1555d6d8d761",
   "metadata": {},
   "source": [
    "# 2.1.g Modified Rock Paper Scissors"
   ]
  },
  {
   "cell_type": "code",
   "execution_count": 62,
   "id": "c0c39c63-e495-4364-8f76-93bcdd24d220",
   "metadata": {},
   "outputs": [
    {
     "name": "stdout",
     "output_type": "stream",
     "text": [
      "Payoff matrix of the modified rock-paper-scissors game:\n",
      "\n",
      "[[ 0 -1  2]\n",
      " [ 1  0 -1]\n",
      " [-1  1  0]]\n",
      "Rock = 0, Paper = 1, Scissors = 2\n",
      "\n",
      "Status: optimal\n",
      "\n",
      "The best response strategy of the *column* player is to play *rock* with probability 0.25\n",
      "The best response strategy of the *column* player is to play *paper* with probability 0.417\n",
      "The best response strategy of the *column* player is to play *scissors* with probability 0.333\n",
      "\n",
      "The best response strategy of the *column* player is to play *rock* with probability 0.333\n",
      "The best response strategy of the *column* player is to play *paper* with probability 0.417\n",
      "The best response strategy of the *column* player is to play *scissors* with probability 0.25\n",
      "\n",
      "The expected payoff of the *row* player is 0.083\n",
      "The expected payoff of the *column* player is -0.083\n"
     ]
    }
   ],
   "source": [
    "# Consider a modified rock-paper-scissors game, where the payoff of the row-player amounts to +2 instead of +1 if she wins by playing rock. \n",
    "\n",
    "# define the modified payoff matrix\n",
    "\n",
    "print(\"Payoff matrix of the modified rock-paper-scissors game:\\n\")\n",
    "M = np.array([[0, -1, 2], [1, 0, -1], [-1, 1, 0]])\n",
    "print(M)\n",
    "print('Rock = 0, Paper = 1, Scissors = 2\\n')\n",
    "\n",
    "# define the variables\n",
    "p = cp.Variable((3,1), nonneg=True)\n",
    "a = cp.Variable((1), nonneg=False)\n",
    "\n",
    "# define the objective function\n",
    "\n",
    "obj = cp.Maximize(a)\n",
    "\n",
    "# define the constraints\n",
    "constraints = [cp.sum(p) == 1, a <= (p.T@M).T]\n",
    "\n",
    "# define the problem\n",
    "prob = cp.Problem(obj, constraints)\n",
    "\n",
    "# solve the problem\n",
    "prob.solve()\n",
    "print(f'Status: {prob.status}\\n')\n",
    "\n",
    "column_player_values = constraints[1].dual_value\n",
    "\n",
    "# print the solution for the row and colunm player\n",
    "print( \"The best response strategy of the *column* player is to play *rock* with probability\", round(p.value[Rock][0], 3))\n",
    "print( \"The best response strategy of the *column* player is to play *paper* with probability\", round(p.value[Paper][0],3))\n",
    "print( \"The best response strategy of the *column* player is to play *scissors* with probability\", round(p.value[Scissors][0], 3))\n",
    "print('')\n",
    "print( \"The best response strategy of the *column* player is to play *rock* with probability\", round(column_player_values[Rock][0], 3))\n",
    "print( \"The best response strategy of the *column* player is to play *paper* with probability\", round(column_player_values[Paper][0],3))\n",
    "print( \"The best response strategy of the *column* player is to play *scissors* with probability\", round(column_player_values[Scissors][0], 3))\n",
    "print('')\n",
    "print(f'The expected payoff of the *row* player is', np.round(constraints[0].dual_value, 3))\n",
    "print(f'The expected payoff of the *column* player is', -np.round(constraints[0].dual_value, 3))"
   ]
  },
  {
   "attachments": {},
   "cell_type": "markdown",
   "id": "bbf48926",
   "metadata": {},
   "source": [
    "## Sanity check :"
   ]
  },
  {
   "cell_type": "code",
   "execution_count": 63,
   "id": "cf94477b",
   "metadata": {},
   "outputs": [
    {
     "data": {
      "text/plain": [
       "Zero sum game with payoff matrices:\n",
       "\n",
       "Row player:\n",
       "[[ 0 -1  2]\n",
       " [ 1  0 -1]\n",
       " [-1  1  0]]\n",
       "\n",
       "Column player:\n",
       "[[ 0  1 -2]\n",
       " [-1  0  1]\n",
       " [ 1 -1  0]]"
      ]
     },
     "execution_count": 63,
     "metadata": {},
     "output_type": "execute_result"
    }
   ],
   "source": [
    "import nashpy as nash\n",
    "import numpy as np\n",
    "\n",
    "A = np.array([[0, -1, 2], [1, 0, -1], [-1, 1, 0]])\n",
    "B = - A\n",
    "rps = nash.Game(A, B)\n",
    "rps"
   ]
  },
  {
   "cell_type": "code",
   "execution_count": 64,
   "id": "9bf43720",
   "metadata": {},
   "outputs": [
    {
     "name": "stdout",
     "output_type": "stream",
     "text": [
      "The Nash equilibria are:\n",
      "\n",
      "For the row player: rock :  0.25 , paper :  0.417 , scissors :  0.333\n",
      "For the column player: rock :  0.333 , paper :  0.417 , scissors :  0.25\n",
      "the payoff for the row player is :  0.083\n",
      "the payoff for the column player is :  -0.083\n"
     ]
    }
   ],
   "source": [
    "eqs = rps.support_enumeration()\n",
    "\n",
    "eqs = list(eqs)\n",
    "\n",
    "print(\"The Nash equilibria are:\\n\")\n",
    "print(\"For the row player: rock : \", np.round(eqs[0][0][0], 3) ,\", paper : \", np.round(eqs[0][0][1], 3), \", scissors : \", np.round(eqs[0][0][2], 3))\n",
    "print(\"For the column player: rock : \", np.round(eqs[0][1][0], 3) ,\", paper : \", np.round(eqs[0][1][1], 3), \", scissors : \", np.round(eqs[0][1][2], 3))\n",
    "\n",
    "print(\"the payoff for the row player is : \", np.round(eqs[0][0]@A@eqs[0][1].T, 3))\n",
    "print(\"the payoff for the column player is : \", np.round(eqs[0][0]@B@eqs[0][1].T, 3))"
   ]
  }
 ],
 "metadata": {
  "kernelspec": {
   "display_name": "Python 3 (ipykernel)",
   "language": "python",
   "name": "python3"
  },
  "language_info": {
   "codemirror_mode": {
    "name": "ipython",
    "version": 3
   },
   "file_extension": ".py",
   "mimetype": "text/x-python",
   "name": "python",
   "nbconvert_exporter": "python",
   "pygments_lexer": "ipython3",
   "version": "3.9.13"
  }
 },
 "nbformat": 4,
 "nbformat_minor": 5
}
