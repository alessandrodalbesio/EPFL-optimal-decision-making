{
 "cells": [
  {
   "cell_type": "code",
   "execution_count": 22,
   "id": "2e1b8226-d240-4f07-aa0f-698443cf046f",
   "metadata": {},
   "outputs": [],
   "source": [
    "import numpy as np\n",
    "import cvxpy as cp"
   ]
  },
  {
   "attachments": {},
   "cell_type": "markdown",
   "id": "88d73690-5b49-4133-9bf6-9270e9263006",
   "metadata": {},
   "source": [
    "# 2.1.f Traditional Rock Paper Scissors"
   ]
  },
  {
   "cell_type": "code",
   "execution_count": 34,
   "id": "d09d666b-dc82-46db-b386-ab706515bc81",
   "metadata": {},
   "outputs": [
    {
     "name": "stdout",
     "output_type": "stream",
     "text": [
      "[[ 0 -1  1]\n",
      " [ 1  0 -1]\n",
      " [-1  1  0]]\n",
      "Rock = 0, Paper = 1, Scissors = 2\n"
     ]
    }
   ],
   "source": [
    "# payoff matrix of the rock-paper-scissors game\n",
    "\n",
    "M = np.array([[0, -1, 1], [1, 0, -1], [-1, 1, 0]])\n",
    "\n",
    "print(M)\n",
    "print('Rock = 0, Paper = 1, Scissors = 2')"
   ]
  },
  {
   "attachments": {},
   "cell_type": "markdown",
   "id": "7edbbbe0",
   "metadata": {},
   "source": [
    "#### Assuming that the row-player’s strategy is to play rock with probability 1, derive the best-response strategy of the column-player "
   ]
  },
  {
   "attachments": {},
   "cell_type": "markdown",
   "id": "ec6ebdbe",
   "metadata": {},
   "source": [
    "(i) logical reasoning : the best response strategy of the column player is to play paper with probability 1"
   ]
  },
  {
   "cell_type": "code",
   "execution_count": 35,
   "id": "589d0455",
   "metadata": {},
   "outputs": [
    {
     "name": "stdout",
     "output_type": "stream",
     "text": [
      "The best response strategy of the column player is to play *rock* with probability 0.0\n",
      "The best response strategy of the column player is to play *paper* with probability 1.0\n",
      "The best response strategy of the column player is to play *scissors* with probability 0.0\n"
     ]
    }
   ],
   "source": [
    "Rock, Paper, Scissors = 0, 1, 2\n",
    "\n",
    "# (ii) solving a linear program\n",
    "\n",
    "# define the variables\n",
    "x = cp.Variable(3, nonneg=True)\n",
    "\n",
    "# define the objective function\n",
    "obj = cp.Minimize(cp.sum(cp.multiply(M[Rock,:], x)))\n",
    "\n",
    "# define the constraints\n",
    "constraints = [cp.sum(x) == 1]\n",
    "\n",
    "# define the problem\n",
    "prob = cp.Problem(obj, constraints)\n",
    "\n",
    "# solve the problem\n",
    "prob.solve()\n",
    "\n",
    "# print the solution\n",
    "print(f'The best response strategy of the column player is to play *rock* with probability', round(x.value[Rock], 3))\n",
    "print(f'The best response strategy of the column player is to play *paper* with probability', round(x.value[Paper],3))\n",
    "print(f'The best response strategy of the column player is to play *scissors* with probability', round(x.value[Scissors], 3))"
   ]
  },
  {
   "cell_type": "markdown",
   "metadata": {},
   "source": [
    "Duality theory can be used to reformulate the given minmax inner minimization problem as a maximization problem.\n",
    "\n",
    "Let's start by defining the Lagrangian function for the given problem as:\n",
    "\n",
    "L(p,λ) = min(q∈∆) p^⊤Mq + λ(1 - ∑ pi)\n",
    "\n",
    "Here, λ is the Lagrange multiplier associated with the constraint that the sum of probabilities is equal to 1.\n",
    "\n",
    "The dual function can be defined as the infimum of the Lagrangian function over the primal variable p:\n",
    "\n",
    "g(λ) = inf(p∈∆) L(p,λ) = inf(p∈∆) (min(q∈∆) p^⊤Mq + λ(1 - ∑ pi))\n",
    "\n",
    "Now, let's consider the maximization problem:\n",
    "\n",
    "maximize(g(λ)) subject to λ≥0\n",
    "\n",
    "The dual problem is to find the optimal value of λ that maximizes the dual function g(λ) subject to the non-negativity constraint on λ.\n",
    "\n",
    "Using the strong duality theorem, we know that the optimal value of the dual problem is equal to the optimal value of the primal problem. Therefore, we can solve the original minmax inner minimization problem by solving the dual problem.\n",
    "\n",
    "To obtain the reformulated problem, we can write the dual function as:\n",
    "\n",
    "g(λ) = inf(p∈∆) (min(q∈∆) p^⊤Mq) + λ(1 - ∑ pi)\n",
    "\n",
    "The first term inside the infimum is a minimum over q, which is a linear function of p. Therefore, we can interchange the order of the minimum and the infimum and obtain:\n",
    "\n",
    "g(λ) = min(q∈∆) (inf(p∈∆) p^⊤Mq + λ(1 - ∑ pi))\n",
    "\n",
    "The term inside the infimum is a linear function of p and can be expressed as:\n",
    "\n",
    "p^⊤Mq + λ(1 - ∑ pi) = (λpi + p^⊤Mq) - λ\n",
    "\n",
    "This is a linear function of pi, and its minimum over pi is achieved at pi = 0 if λM + q ≤ 0, and pi = 1 if λM + q > 0. Therefore, we can express the dual function as:\n",
    "\n",
    "g(λ) = min(q∈∆) max(0, λM + q)\n",
    "\n",
    "This is a maximization problem, where we maximize over q and minimize over λ. Therefore, the reformulated problem is:\n",
    "\n",
    "maximize (q∈∆) max(0, λM + q)\n",
    "\n",
    "This is the maximization problem that is equivalent to the original minmax inner minimization problem using duality theory."
   ]
  },
  {
   "cell_type": "code",
   "execution_count": 36,
   "id": "cb659f38",
   "metadata": {},
   "outputs": [
    {
     "name": "stdout",
     "output_type": "stream",
     "text": [
      "Status: optimal\n",
      "\n",
      "The best response strategy of the *column* player is to play *rock* with probability 0.333\n",
      "The best response strategy of the *column* player is to play *paper* with probability 0.333\n",
      "The best response strategy of the *column* player is to play *scissors* with probability 0.333\n",
      "\n",
      "The best response strategy of the *row* player is to play *rock* with probability 0.333\n",
      "The best response strategy of the *row* player is to play *paper* with probability 0.333\n",
      "The best response strategy of the *row* player is to play *scissors* with probability 0.333\n",
      "\n",
      "The expected payoff of the row player is 0.0\n",
      "the expected payoff of the column player is -0.0\n"
     ]
    }
   ],
   "source": [
    "# construct the Nash strategies of both players and report the expected payoff of the row-player. Interpret your results.\n",
    "\n",
    "# define the variables\n",
    "x = cp.Variable((1,3), nonneg=True)\n",
    "y = cp.Variable((1,3), nonneg=True)\n",
    "\n",
    "# define the objective function\n",
    "\n",
    "# CAREFUL : There is an error Here !!!!!!!!!!!!!!!!!!\n",
    "obj = cp.Maximize(cp.sum(cp.multiply(M, x)) + cp.sum(cp.multiply(M.T, y)))\n",
    "\n",
    "# define the constraints\n",
    "constraints = [cp.sum(x) == 1, cp.sum(y) == 1]\n",
    "\n",
    "# define the problem\n",
    "prob = cp.Problem(obj, constraints)\n",
    "\n",
    "# solve the problem\n",
    "prob.solve()\n",
    "print(f'Status: {prob.status}\\n')\n",
    "\n",
    "# print the solution\n",
    "print( \"The best response strategy of the *column* player is to play *rock* with probability\", np.round(x.value, 3)[0, Rock])\n",
    "print( \"The best response strategy of the *column* player is to play *paper* with probability\", np.round(x.value, 3)[0, Paper])\n",
    "print( \"The best response strategy of the *column* player is to play *scissors* with probability\", np.round(x.value, 3)[0, Scissors])\n",
    "print('')\n",
    "print( \"The best response strategy of the *row* player is to play *rock* with probability\", np.round(y.value, 3)[0, Rock])\n",
    "print( \"The best response strategy of the *row* player is to play *paper* with probability\", np.round(y.value, 3)[0, Paper])\n",
    "print( \"The best response strategy of the *row* player is to play *scissors* with probability\", np.round(y.value, 3)[0, Scissors])\n",
    "\n",
    "print(f'\\nThe expected payoff of the row player is', np.round(prob.value, 3))\n",
    "print(f'the expected payoff of the column player is', np.round(-prob.value, 3))"
   ]
  },
  {
   "attachments": {},
   "cell_type": "markdown",
   "id": "7c9d297d",
   "metadata": {},
   "source": [
    "Let p be a Nash strategy for the row-player in the game represented by the matrix M. Then, for any column strategy q, we have:\n",
    "\n",
    "p^T M q ≤ p^T M p (1)\n",
    "\n",
    "where the inequality follows from the definition of a Nash strategy, which states that the row-player cannot improve her expected payoff by unilaterally changing her strategy.\n",
    "\n",
    "Now, let v be an optimal strategy for the column-player in the game represented by the matrix M, i.e.,\n",
    "\n",
    "v^T M p ≥ v^T M v (2)\n",
    "\n",
    "where the inequality follows from the definition of an optimal strategy for the column-player, which states that the column-player chooses a strategy that maximizes his/her expected payoff against any row strategy.\n",
    "\n",
    "Multiplying (1) by v^T on both sides, we get:\n",
    "\n",
    "v^T p^T M q ≤ v^T p^T M p (3)\n",
    "\n",
    "Using the fact that (2) holds, we can replace v^T M p on the right-hand side of (3) to obtain:\n",
    "\n",
    "v^T p^T M q ≤ v^T M p ≤ v^T M v (4)\n",
    "\n",
    "The left-hand side of (4) is the expected payoff of the row-player when she plays the strategy p against the column strategy q, while the right-hand side is the minimum value of the game represented by the matrix M, i.e., the optimal value of the minimax problem (1). Therefore, we have shown that:\n",
    "\n",
    "v^T p^T M q ≤ v^T M v (5)\n",
    "\n",
    "for any column strategy q and any Nash strategy p of the row-player. In other words, the expected payoff of the row-player when she plays a Nash strategy cannot fall below the optimal value of the minimax problem, irrespective of the column-player's strategy. This result is known as the minimax theorem."
   ]
  },
  {
   "attachments": {},
   "cell_type": "markdown",
   "id": "9d7e26f7-fd53-4739-86cb-1555d6d8d761",
   "metadata": {},
   "source": [
    "# 2.1.g Modified Rock Paper Scissors"
   ]
  },
  {
   "cell_type": "code",
   "execution_count": 39,
   "id": "c0c39c63-e495-4364-8f76-93bcdd24d220",
   "metadata": {},
   "outputs": [
    {
     "name": "stdout",
     "output_type": "stream",
     "text": [
      "Payoff matrix of the modified rock-paper-scissors game:\n",
      "\n",
      "[[ 0 -1  2]\n",
      " [ 1  0 -1]\n",
      " [-1  1  0]]\n",
      "Rock = 0, Paper = 1, Scissors = 2\n",
      "\n",
      "False\n"
     ]
    },
    {
     "ename": "DCPError",
     "evalue": "Problem does not follow DCP rules. Specifically:\nThe objective is not DCP. Its following subexpressions are not:\n[[1.]\n [1.]\n [1.]] @ var612.T @ [[ 0. -1.  2.]\n [ 1.  0. -1.]\n [-1.  1.  0.]] @ var613 @ [[1. 1. 1.]]",
     "output_type": "error",
     "traceback": [
      "\u001b[1;31m---------------------------------------------------------------------------\u001b[0m",
      "\u001b[1;31mDCPError\u001b[0m                                  Traceback (most recent call last)",
      "\u001b[1;32m~\\AppData\\Local\\Temp/ipykernel_16700/4062415734.py\u001b[0m in \u001b[0;36m<module>\u001b[1;34m\u001b[0m\n\u001b[0;32m     26\u001b[0m \u001b[1;33m\u001b[0m\u001b[0m\n\u001b[0;32m     27\u001b[0m \u001b[1;31m# solve the problem\u001b[0m\u001b[1;33m\u001b[0m\u001b[1;33m\u001b[0m\u001b[0m\n\u001b[1;32m---> 28\u001b[1;33m \u001b[0mprob\u001b[0m\u001b[1;33m.\u001b[0m\u001b[0msolve\u001b[0m\u001b[1;33m(\u001b[0m\u001b[1;33m)\u001b[0m\u001b[1;33m\u001b[0m\u001b[1;33m\u001b[0m\u001b[0m\n\u001b[0m\u001b[0;32m     29\u001b[0m \u001b[0mprint\u001b[0m\u001b[1;33m(\u001b[0m\u001b[1;34mf'Status: {prob.status}'\u001b[0m\u001b[1;33m)\u001b[0m\u001b[1;33m\u001b[0m\u001b[1;33m\u001b[0m\u001b[0m\n\u001b[0;32m     30\u001b[0m \u001b[1;33m\u001b[0m\u001b[0m\n",
      "\u001b[1;32mc:\\Users\\nicte\\AppData\\Local\\Programs\\Python\\Python39\\lib\\site-packages\\cvxpy\\problems\\problem.py\u001b[0m in \u001b[0;36msolve\u001b[1;34m(self, *args, **kwargs)\u001b[0m\n\u001b[0;32m    491\u001b[0m         \u001b[1;32melse\u001b[0m\u001b[1;33m:\u001b[0m\u001b[1;33m\u001b[0m\u001b[1;33m\u001b[0m\u001b[0m\n\u001b[0;32m    492\u001b[0m             \u001b[0msolve_func\u001b[0m \u001b[1;33m=\u001b[0m \u001b[0mProblem\u001b[0m\u001b[1;33m.\u001b[0m\u001b[0m_solve\u001b[0m\u001b[1;33m\u001b[0m\u001b[1;33m\u001b[0m\u001b[0m\n\u001b[1;32m--> 493\u001b[1;33m         \u001b[1;32mreturn\u001b[0m \u001b[0msolve_func\u001b[0m\u001b[1;33m(\u001b[0m\u001b[0mself\u001b[0m\u001b[1;33m,\u001b[0m \u001b[1;33m*\u001b[0m\u001b[0margs\u001b[0m\u001b[1;33m,\u001b[0m \u001b[1;33m**\u001b[0m\u001b[0mkwargs\u001b[0m\u001b[1;33m)\u001b[0m\u001b[1;33m\u001b[0m\u001b[1;33m\u001b[0m\u001b[0m\n\u001b[0m\u001b[0;32m    494\u001b[0m \u001b[1;33m\u001b[0m\u001b[0m\n\u001b[0;32m    495\u001b[0m     \u001b[1;33m@\u001b[0m\u001b[0mclassmethod\u001b[0m\u001b[1;33m\u001b[0m\u001b[1;33m\u001b[0m\u001b[0m\n",
      "\u001b[1;32mc:\\Users\\nicte\\AppData\\Local\\Programs\\Python\\Python39\\lib\\site-packages\\cvxpy\\problems\\problem.py\u001b[0m in \u001b[0;36m_solve\u001b[1;34m(self, solver, warm_start, verbose, gp, qcp, requires_grad, enforce_dpp, ignore_dpp, canon_backend, **kwargs)\u001b[0m\n\u001b[0;32m   1052\u001b[0m                 \u001b[1;32mreturn\u001b[0m \u001b[0mself\u001b[0m\u001b[1;33m.\u001b[0m\u001b[0mvalue\u001b[0m\u001b[1;33m\u001b[0m\u001b[1;33m\u001b[0m\u001b[0m\n\u001b[0;32m   1053\u001b[0m \u001b[1;33m\u001b[0m\u001b[0m\n\u001b[1;32m-> 1054\u001b[1;33m         data, solving_chain, inverse_data = self.get_problem_data(\n\u001b[0m\u001b[0;32m   1055\u001b[0m             \u001b[0msolver\u001b[0m\u001b[1;33m,\u001b[0m \u001b[0mgp\u001b[0m\u001b[1;33m,\u001b[0m \u001b[0menforce_dpp\u001b[0m\u001b[1;33m,\u001b[0m \u001b[0mignore_dpp\u001b[0m\u001b[1;33m,\u001b[0m \u001b[0mverbose\u001b[0m\u001b[1;33m,\u001b[0m \u001b[0mcanon_backend\u001b[0m\u001b[1;33m,\u001b[0m \u001b[0mkwargs\u001b[0m\u001b[1;33m\u001b[0m\u001b[1;33m\u001b[0m\u001b[0m\n\u001b[0;32m   1056\u001b[0m         )\n",
      "\u001b[1;32mc:\\Users\\nicte\\AppData\\Local\\Programs\\Python\\Python39\\lib\\site-packages\\cvxpy\\problems\\problem.py\u001b[0m in \u001b[0;36mget_problem_data\u001b[1;34m(self, solver, gp, enforce_dpp, ignore_dpp, verbose, canon_backend, solver_opts)\u001b[0m\n\u001b[0;32m    629\u001b[0m         \u001b[1;32mif\u001b[0m \u001b[0mkey\u001b[0m \u001b[1;33m!=\u001b[0m \u001b[0mself\u001b[0m\u001b[1;33m.\u001b[0m\u001b[0m_cache\u001b[0m\u001b[1;33m.\u001b[0m\u001b[0mkey\u001b[0m\u001b[1;33m:\u001b[0m\u001b[1;33m\u001b[0m\u001b[1;33m\u001b[0m\u001b[0m\n\u001b[0;32m    630\u001b[0m             \u001b[0mself\u001b[0m\u001b[1;33m.\u001b[0m\u001b[0m_cache\u001b[0m\u001b[1;33m.\u001b[0m\u001b[0minvalidate\u001b[0m\u001b[1;33m(\u001b[0m\u001b[1;33m)\u001b[0m\u001b[1;33m\u001b[0m\u001b[1;33m\u001b[0m\u001b[0m\n\u001b[1;32m--> 631\u001b[1;33m             solving_chain = self._construct_chain(\n\u001b[0m\u001b[0;32m    632\u001b[0m                 \u001b[0msolver\u001b[0m\u001b[1;33m=\u001b[0m\u001b[0msolver\u001b[0m\u001b[1;33m,\u001b[0m \u001b[0mgp\u001b[0m\u001b[1;33m=\u001b[0m\u001b[0mgp\u001b[0m\u001b[1;33m,\u001b[0m\u001b[1;33m\u001b[0m\u001b[1;33m\u001b[0m\u001b[0m\n\u001b[0;32m    633\u001b[0m                 \u001b[0menforce_dpp\u001b[0m\u001b[1;33m=\u001b[0m\u001b[0menforce_dpp\u001b[0m\u001b[1;33m,\u001b[0m\u001b[1;33m\u001b[0m\u001b[1;33m\u001b[0m\u001b[0m\n",
      "\u001b[1;32mc:\\Users\\nicte\\AppData\\Local\\Programs\\Python\\Python39\\lib\\site-packages\\cvxpy\\problems\\problem.py\u001b[0m in \u001b[0;36m_construct_chain\u001b[1;34m(self, solver, gp, enforce_dpp, ignore_dpp, canon_backend, solver_opts)\u001b[0m\n\u001b[0;32m    881\u001b[0m         \u001b[0mcandidate_solvers\u001b[0m \u001b[1;33m=\u001b[0m \u001b[0mself\u001b[0m\u001b[1;33m.\u001b[0m\u001b[0m_find_candidate_solvers\u001b[0m\u001b[1;33m(\u001b[0m\u001b[0msolver\u001b[0m\u001b[1;33m=\u001b[0m\u001b[0msolver\u001b[0m\u001b[1;33m,\u001b[0m \u001b[0mgp\u001b[0m\u001b[1;33m=\u001b[0m\u001b[0mgp\u001b[0m\u001b[1;33m)\u001b[0m\u001b[1;33m\u001b[0m\u001b[1;33m\u001b[0m\u001b[0m\n\u001b[0;32m    882\u001b[0m         \u001b[0mself\u001b[0m\u001b[1;33m.\u001b[0m\u001b[0m_sort_candidate_solvers\u001b[0m\u001b[1;33m(\u001b[0m\u001b[0mcandidate_solvers\u001b[0m\u001b[1;33m)\u001b[0m\u001b[1;33m\u001b[0m\u001b[1;33m\u001b[0m\u001b[0m\n\u001b[1;32m--> 883\u001b[1;33m         return construct_solving_chain(self, candidate_solvers, gp=gp,\n\u001b[0m\u001b[0;32m    884\u001b[0m                                        \u001b[0menforce_dpp\u001b[0m\u001b[1;33m=\u001b[0m\u001b[0menforce_dpp\u001b[0m\u001b[1;33m,\u001b[0m\u001b[1;33m\u001b[0m\u001b[1;33m\u001b[0m\u001b[0m\n\u001b[0;32m    885\u001b[0m                                        \u001b[0mignore_dpp\u001b[0m\u001b[1;33m=\u001b[0m\u001b[0mignore_dpp\u001b[0m\u001b[1;33m,\u001b[0m\u001b[1;33m\u001b[0m\u001b[1;33m\u001b[0m\u001b[0m\n",
      "\u001b[1;32mc:\\Users\\nicte\\AppData\\Local\\Programs\\Python\\Python39\\lib\\site-packages\\cvxpy\\reductions\\solvers\\solving_chain.py\u001b[0m in \u001b[0;36mconstruct_solving_chain\u001b[1;34m(problem, candidates, gp, enforce_dpp, ignore_dpp, canon_backend, solver_opts)\u001b[0m\n\u001b[0;32m    182\u001b[0m     \u001b[1;32mif\u001b[0m \u001b[0mlen\u001b[0m\u001b[1;33m(\u001b[0m\u001b[0mproblem\u001b[0m\u001b[1;33m.\u001b[0m\u001b[0mvariables\u001b[0m\u001b[1;33m(\u001b[0m\u001b[1;33m)\u001b[0m\u001b[1;33m)\u001b[0m \u001b[1;33m==\u001b[0m \u001b[1;36m0\u001b[0m\u001b[1;33m:\u001b[0m\u001b[1;33m\u001b[0m\u001b[1;33m\u001b[0m\u001b[0m\n\u001b[0;32m    183\u001b[0m         \u001b[1;32mreturn\u001b[0m \u001b[0mSolvingChain\u001b[0m\u001b[1;33m(\u001b[0m\u001b[0mreductions\u001b[0m\u001b[1;33m=\u001b[0m\u001b[1;33m[\u001b[0m\u001b[0mConstantSolver\u001b[0m\u001b[1;33m(\u001b[0m\u001b[1;33m)\u001b[0m\u001b[1;33m]\u001b[0m\u001b[1;33m)\u001b[0m\u001b[1;33m\u001b[0m\u001b[1;33m\u001b[0m\u001b[0m\n\u001b[1;32m--> 184\u001b[1;33m     \u001b[0mreductions\u001b[0m \u001b[1;33m=\u001b[0m \u001b[0m_reductions_for_problem_class\u001b[0m\u001b[1;33m(\u001b[0m\u001b[0mproblem\u001b[0m\u001b[1;33m,\u001b[0m \u001b[0mcandidates\u001b[0m\u001b[1;33m,\u001b[0m \u001b[0mgp\u001b[0m\u001b[1;33m,\u001b[0m \u001b[0msolver_opts\u001b[0m\u001b[1;33m)\u001b[0m\u001b[1;33m\u001b[0m\u001b[1;33m\u001b[0m\u001b[0m\n\u001b[0m\u001b[0;32m    185\u001b[0m \u001b[1;33m\u001b[0m\u001b[0m\n\u001b[0;32m    186\u001b[0m     \u001b[1;31m# Process DPP status of the problem.\u001b[0m\u001b[1;33m\u001b[0m\u001b[1;33m\u001b[0m\u001b[0m\n",
      "\u001b[1;32mc:\\Users\\nicte\\AppData\\Local\\Programs\\Python\\Python39\\lib\\site-packages\\cvxpy\\reductions\\solvers\\solving_chain.py\u001b[0m in \u001b[0;36m_reductions_for_problem_class\u001b[1;34m(problem, candidates, gp, solver_opts)\u001b[0m\n\u001b[0;32m    100\u001b[0m             append += (\"\\nHowever, the problem does follow DQCP rules. \"\n\u001b[0;32m    101\u001b[0m                        \"Consider calling solve() with `qcp=True`.\")\n\u001b[1;32m--> 102\u001b[1;33m         raise DCPError(\n\u001b[0m\u001b[0;32m    103\u001b[0m             \"Problem does not follow DCP rules. Specifically:\\n\" + append)\n\u001b[0;32m    104\u001b[0m     \u001b[1;32melif\u001b[0m \u001b[0mgp\u001b[0m \u001b[1;32mand\u001b[0m \u001b[1;32mnot\u001b[0m \u001b[0mproblem\u001b[0m\u001b[1;33m.\u001b[0m\u001b[0mis_dgp\u001b[0m\u001b[1;33m(\u001b[0m\u001b[1;33m)\u001b[0m\u001b[1;33m:\u001b[0m\u001b[1;33m\u001b[0m\u001b[1;33m\u001b[0m\u001b[0m\n",
      "\u001b[1;31mDCPError\u001b[0m: Problem does not follow DCP rules. Specifically:\nThe objective is not DCP. Its following subexpressions are not:\n[[1.]\n [1.]\n [1.]] @ var612.T @ [[ 0. -1.  2.]\n [ 1.  0. -1.]\n [-1.  1.  0.]] @ var613 @ [[1. 1. 1.]]"
     ]
    }
   ],
   "source": [
    "# Consider a modified rock-paper-scissors game, where the payoff of the row-player amounts to +2 instead of +1 if she wins by playing rock. \n",
    "\n",
    "# define the modified payoff matrix\n",
    "\n",
    "print(\"Payoff matrix of the modified rock-paper-scissors game:\\n\")\n",
    "M = np.array([[0, -1, 2], [1, 0, -1], [-1, 1, 0]])\n",
    "print(M)\n",
    "print('Rock = 0, Paper = 1, Scissors = 2\\n')\n",
    "\n",
    "# define the variables\n",
    "x = cp.Variable((3,1), nonneg=True)\n",
    "y = cp.Variable((3,1), nonneg=True)\n",
    "\n",
    "# define the objective function\n",
    "\n",
    "# CAREFUL : There is an error Here !!!!!!!!!!!!!!!!!!\n",
    "obj = cp.Maximize(cp.max(cp.multiply(x.T, M@y)))\n",
    "\n",
    "# define the constraints\n",
    "constraints = [cp.sum(x) == 1, cp.sum(y) == 1]\n",
    "\n",
    "# define the problem\n",
    "prob = cp.Problem(obj, constraints)\n",
    "\n",
    "# print if the problem is DCP\n",
    "print(prob.is_dcp())\n",
    "\n",
    "# solve the problem\n",
    "prob.solve()\n",
    "print(f'Status: {prob.status}')\n",
    "\n",
    "print(x.value)\n",
    "print(y.value)\n",
    "\n",
    "# print the solution\n",
    "print( \"The best response strategy of the *column* player is to play *rock* with probability\", np.round(x.value, 3)[0, Rock])\n",
    "print( \"The best response strategy of the *column* player is to play *paper* with probability\", np.round(x.value, 3)[0, Paper])\n",
    "print( \"The best response strategy of the *column* player is to play *scissors* with probability\", np.round(x.value, 3)[0, Scissors])\n",
    "print('')\n",
    "print( \"The best response strategy of the *row* player is to play *rock* with probability\", np.round(y.value, 3)[0, Rock])\n",
    "print( \"The best response strategy of the *row* player is to play *paper* with probability\", np.round(y.value, 3)[0, Paper])\n",
    "print( \"The best response strategy of the *row* player is to play *scissors* with probability\", np.round(y.value, 3)[0, Scissors])\n",
    "\n",
    "print(f'\\nThe expected payoff of the row player is', np.round(prob.value, 3))\n",
    "print(f'the expected payoff of the column player is', np.round(-prob.value, 3))"
   ]
  },
  {
   "cell_type": "code",
   "execution_count": 6,
   "id": "cf94477b",
   "metadata": {},
   "outputs": [
    {
     "data": {
      "text/plain": [
       "Zero sum game with payoff matrices:\n",
       "\n",
       "Row player:\n",
       "[[ 0 -1  2]\n",
       " [ 1  0 -1]\n",
       " [-1  1  0]]\n",
       "\n",
       "Column player:\n",
       "[[ 0  1 -2]\n",
       " [-1  0  1]\n",
       " [ 1 -1  0]]"
      ]
     },
     "execution_count": 6,
     "metadata": {},
     "output_type": "execute_result"
    }
   ],
   "source": [
    "import nashpy as nash\n",
    "import numpy as np\n",
    "\n",
    "A = np.array([[0, -1, 2], [1, 0, -1], [-1, 1, 0]])\n",
    "B = - A\n",
    "rps = nash.Game(A, B)\n",
    "rps"
   ]
  },
  {
   "cell_type": "code",
   "execution_count": 20,
   "id": "9bf43720",
   "metadata": {},
   "outputs": [
    {
     "name": "stdout",
     "output_type": "stream",
     "text": [
      "The Nash equilibria are:\n",
      "\n",
      "For the row player: rock :  0.25 , paper :  0.42 , scissors :  0.33\n",
      "For the column player: rock :  0.33 , paper :  0.42 , scissors :  0.25\n"
     ]
    }
   ],
   "source": [
    "eqs = rps.support_enumeration()\n",
    "\n",
    "eqs = list(eqs)\n",
    "\n",
    "print(\"The Nash equilibria are:\\n\")\n",
    "print(\"For the row player: rock : \", np.round(eqs[0][0][0], 2) ,\", paper : \", np.round(eqs[0][0][1], 2), \", scissors : \", np.round(eqs[0][0][2], 2))\n",
    "print(\"For the column player: rock : \", np.round(eqs[0][1][0], 2) ,\", paper : \", np.round(eqs[0][1][1], 2), \", scissors : \", np.round(eqs[0][1][2], 2))"
   ]
  },
  {
   "cell_type": "code",
   "execution_count": null,
   "id": "898bf97f",
   "metadata": {},
   "outputs": [],
   "source": [
    "# This is the answer we are looking for, but we need to use CVXPY to get it (not nashpy)"
   ]
  }
 ],
 "metadata": {
  "kernelspec": {
   "display_name": "Python 3 (ipykernel)",
   "language": "python",
   "name": "python3"
  },
  "language_info": {
   "codemirror_mode": {
    "name": "ipython",
    "version": 3
   },
   "file_extension": ".py",
   "mimetype": "text/x-python",
   "name": "python",
   "nbconvert_exporter": "python",
   "pygments_lexer": "ipython3",
   "version": "3.9.13"
  }
 },
 "nbformat": 4,
 "nbformat_minor": 5
}
