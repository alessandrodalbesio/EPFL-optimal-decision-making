{
 "cells": [
  {
   "cell_type": "code",
   "execution_count": null,
   "id": "usual-adult",
   "metadata": {},
   "outputs": [],
   "source": [
    "import cvxpy as cp\n",
    "import numpy as np\n",
    "import matplotlib.pyplot as plt\n",
    "import time\n",
    "\n",
    "import ot_helpers"
   ]
  },
  {
   "cell_type": "markdown",
   "id": "20c3295c-1886-404a-9669-c12ad9998970",
   "metadata": {
    "tags": []
   },
   "source": [
    "# Data Loading"
   ]
  },
  {
   "cell_type": "code",
   "execution_count": null,
   "id": "higher-temperature",
   "metadata": {},
   "outputs": [],
   "source": [
    "# load the images\n",
    "I1 = np.load('data/I1.npy')\n",
    "I2 = np.load('data/I2.npy')\n",
    "# turn the images into ordianry distributions\n",
    "p1 = I1.flatten()/I1.sum()\n",
    "p2 = I2.flatten()/I2.sum()\n",
    "\n",
    "# cost function\n",
    "C = ot_helpers.build_distance()"
   ]
  },
  {
   "attachments": {},
   "cell_type": "markdown",
   "id": "7948fdc1-5a79-42e4-b977-47935478fd83",
   "metadata": {},
   "source": [
    "# 3.3 Computing the Barycenter"
   ]
  },
  {
   "cell_type": "code",
   "execution_count": null,
   "id": "progressive-uganda",
   "metadata": {},
   "outputs": [],
   "source": [
    "def interpolate_images(C, p1, p2, nu1, nu2, verbose = True):\n",
    "    '''\n",
    "    Your code here\n",
    "    '''"
   ]
  },
  {
   "cell_type": "markdown",
   "id": "48ae62ee-31fc-4961-9108-706068304543",
   "metadata": {},
   "source": [
    "# Visualizing the Results"
   ]
  },
  {
   "cell_type": "code",
   "execution_count": null,
   "id": "angry-flower",
   "metadata": {},
   "outputs": [],
   "source": [
    "plt.figure(figsize=(20,5))\n",
    "lambda2s = np.linspace(0,1,5)\n",
    "for i in range(5):\n",
    "    res = interpolate_images(C, p1, p2, 1-lambda2s[i], lambda2s[i], verbose = False)\n",
    "    plt.subplot(1,5,i+1)\n",
    "    plt.imshow(np.reshape(res.squeeze(), (28,28)), cmap='gray')\n",
    "    plt.axis('off')"
   ]
  },
  {
   "cell_type": "markdown",
   "id": "2ad61143-7558-4871-8a18-232014c38f00",
   "metadata": {},
   "source": [
    "# Try the same code with the images below for a happy surprise"
   ]
  },
  {
   "cell_type": "code",
   "execution_count": null,
   "id": "9e368fd5-1aa7-4bd2-a438-76ccb632145a",
   "metadata": {},
   "outputs": [],
   "source": [
    "I1 = np.load('data/sad.npy')\n",
    "I2 = np.load('data/happy.npy')\n",
    "p1 = I1.flatten()/I1.sum()\n",
    "p2 = I2.flatten()/I2.sum()"
   ]
  },
  {
   "cell_type": "code",
   "execution_count": null,
   "id": "6295c7d1-4a24-4e39-8492-0b81c7d4692c",
   "metadata": {},
   "outputs": [],
   "source": [
    "plt.figure(figsize=(20,5))\n",
    "lambda2s = np.linspace(0,1,5)\n",
    "for i in range(5):\n",
    "    res = interpolate_images(C, p1, p2, 1-lambda2s[i], lambda2s[i], verbose = False)\n",
    "    plt.subplot(1,5,i+1)\n",
    "    plt.imshow(np.reshape(res.squeeze(), (28,28)), cmap='gray')\n",
    "    plt.axis('off')"
   ]
  },
  {
   "cell_type": "code",
   "execution_count": null,
   "id": "b6e611fd-b3cd-425a-afd3-db3c59475ab0",
   "metadata": {},
   "outputs": [],
   "source": []
  }
 ],
 "metadata": {
  "kernelspec": {
   "display_name": "Python 3 (ipykernel)",
   "language": "python",
   "name": "python3"
  },
  "language_info": {
   "codemirror_mode": {
    "name": "ipython",
    "version": 3
   },
   "file_extension": ".py",
   "mimetype": "text/x-python",
   "name": "python",
   "nbconvert_exporter": "python",
   "pygments_lexer": "ipython3",
   "version": "3.9.12"
  }
 },
 "nbformat": 4,
 "nbformat_minor": 5
}
